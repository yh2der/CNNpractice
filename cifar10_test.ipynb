{
 "cells": [
  {
   "cell_type": "code",
   "execution_count": 20,
   "id": "db0e3fa0",
   "metadata": {},
   "outputs": [],
   "source": [
    "import torch\n",
    "from torch import nn\n",
    "from torchvision import datasets\n",
    "import torchvision.transforms as transforms\n",
    "from torch.utils.data import DataLoader"
   ]
  },
  {
   "cell_type": "code",
   "execution_count": 21,
   "id": "173b91db",
   "metadata": {},
   "outputs": [],
   "source": [
    "import cifar10_model_ourdesign as cifar10_model_ourdesign\n",
    "model_file=\"cifar10_model.pt\""
   ]
  },
  {
   "cell_type": "code",
   "execution_count": 22,
   "id": "45c35da7",
   "metadata": {},
   "outputs": [],
   "source": [
    "#import cifar10_resnet as cifar10_model\n",
    "#model_file=\"cifar10_resnet.pt\""
   ]
  },
  {
   "cell_type": "code",
   "execution_count": 23,
   "id": "34cd1ac3",
   "metadata": {},
   "outputs": [],
   "source": [
    "transform=transforms.Compose([\n",
    "    transforms.ToTensor(),\n",
    "    transforms.Normalize(\n",
    "        mean=(0.4914,0.4822,0.4465),\n",
    "        std=(0.2470,0.2435,0.2616))\n",
    "])"
   ]
  },
  {
   "cell_type": "code",
   "execution_count": 24,
   "id": "dbd9bf2b",
   "metadata": {},
   "outputs": [
    {
     "name": "stdout",
     "output_type": "stream",
     "text": [
      "Files already downloaded and verified\n"
     ]
    }
   ],
   "source": [
    "test_data=datasets.CIFAR10('data/cifar10/test',train=False,download=True,transform=transform)"
   ]
  },
  {
   "cell_type": "code",
   "execution_count": 25,
   "id": "6c9e067d",
   "metadata": {},
   "outputs": [
    {
     "name": "stdout",
     "output_type": "stream",
     "text": [
      "100\n"
     ]
    }
   ],
   "source": [
    "batch_size=100\n",
    "test_loader= DataLoader(test_data,batch_size=batch_size)\n",
    "print(len(test_loader))"
   ]
  },
  {
   "cell_type": "code",
   "execution_count": 26,
   "id": "f93dedf4",
   "metadata": {},
   "outputs": [
    {
     "name": "stdout",
     "output_type": "stream",
     "text": [
      "deivce:cuda\n"
     ]
    }
   ],
   "source": [
    "device=\"cuda\" if torch.cuda.is_available() else \"cpu\"\n",
    "print(f\"deivce:{device}\")"
   ]
  },
  {
   "cell_type": "code",
   "execution_count": 27,
   "id": "5dd8bd11",
   "metadata": {},
   "outputs": [
    {
     "data": {
      "text/plain": [
       "<All keys matched successfully>"
      ]
     },
     "execution_count": 27,
     "metadata": {},
     "output_type": "execute_result"
    }
   ],
   "source": [
    "model=cifar10_model_ourdesign.CNN()\n",
    "model.load_state_dict(torch.load(model_file))\n",
    "#print(model)"
   ]
  },
  {
   "cell_type": "code",
   "execution_count": 28,
   "id": "343b32ac",
   "metadata": {},
   "outputs": [],
   "source": [
    "model=model.to(device)"
   ]
  },
  {
   "cell_type": "code",
   "execution_count": 29,
   "id": "616383e1",
   "metadata": {},
   "outputs": [],
   "source": [
    "loss_function=nn.CrossEntropyLoss()"
   ]
  },
  {
   "cell_type": "code",
   "execution_count": 30,
   "id": "a28c32af",
   "metadata": {},
   "outputs": [
    {
     "name": "stdout",
     "output_type": "stream",
     "text": [
      "test_loss: 0.401, correct: 0.890\n"
     ]
    }
   ],
   "source": [
    "num_correct=0.0\n",
    "test_loss=0\n",
    "# 測試資料\n",
    "model.eval()\n",
    "for data_test,target_test in test_loader:\n",
    "    data_test=data_test.to(device)\n",
    "    target_test=target_test.to(device)\n",
    "    \n",
    "    test_pred=model(data_test)\n",
    "    loss3=loss_function(test_pred,target_test)\n",
    "    test_loss += loss3.item()\n",
    "    _,predicted=torch.max(test_pred,1)\n",
    "    num_correct += (predicted==target_test).float().sum()\n",
    "\n",
    "test_loss=test_loss/len(test_loader)\n",
    "num_correct=num_correct/(len(test_loader)*batch_size)\n",
    "print(f\"test_loss: {test_loss:.3f}, correct: {num_correct:.3f}\")"
   ]
  },
  {
   "cell_type": "code",
   "execution_count": null,
   "id": "a161ff98",
   "metadata": {},
   "outputs": [],
   "source": []
  },
  {
   "cell_type": "code",
   "execution_count": null,
   "id": "1cd711be",
   "metadata": {},
   "outputs": [],
   "source": []
  }
 ],
 "metadata": {
  "kernelspec": {
   "display_name": "Python 3 (ipykernel)",
   "language": "python",
   "name": "python3"
  },
  "language_info": {
   "codemirror_mode": {
    "name": "ipython",
    "version": 3
   },
   "file_extension": ".py",
   "mimetype": "text/x-python",
   "name": "python",
   "nbconvert_exporter": "python",
   "pygments_lexer": "ipython3",
   "version": "3.10.9"
  }
 },
 "nbformat": 4,
 "nbformat_minor": 5
}
